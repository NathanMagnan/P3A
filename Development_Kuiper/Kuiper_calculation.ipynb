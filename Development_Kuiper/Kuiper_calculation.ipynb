{
 "cells": [
  {
   "cell_type": "markdown",
   "metadata": {},
   "source": [
    "## Importations"
   ]
  },
  {
   "cell_type": "code",
   "execution_count": 1,
   "metadata": {},
   "outputs": [],
   "source": [
    "import numpy as np\n",
    "import math as m\n",
    "import scipy.constants as constants\n",
    "import scipy.special as specials"
   ]
  },
  {
   "cell_type": "code",
   "execution_count": 2,
   "metadata": {},
   "outputs": [],
   "source": [
    "List_m = np.loadtxt(\"C:/Users/Nathan/Documents/D - X/X 3A/P3A/Repository_P3A/Development_Kuiper/Abacus_m\")\n",
    "List_Kp = np.loadtxt(\"C:/Users/Nathan/Documents/D - X/X 3A/P3A/Repository_P3A/Development_Kuiper/Abacus_Kp\")\n",
    "List_Ep = np.loadtxt(\"C:/Users/Nathan/Documents/D - X/X 3A/P3A/Repository_P3A/Development_Kuiper/Abacus_Ep\")"
   ]
  },
  {
   "cell_type": "markdown",
   "metadata": {},
   "source": [
    "# Kuiper's belt gravitational field $\\vec{K}(\\vec{r})$ under Newton's potential"
   ]
  },
  {
   "cell_type": "code",
   "execution_count": 3,
   "metadata": {},
   "outputs": [],
   "source": [
    "def Kuiper_Newton(x, y, z, \n",
    "                  mu = 1.97 * 3986004418 * 10**3, ecliptic_plane_angle_x = (23.4 + 1.86) * 2 * m.pi / 360,\n",
    "                  R_center = 45 * constants.au, R0 = 3 * constants.au):\n",
    "    \"\"\" The position of the mass is expressed in cartesian coordinates in the solar system's reference frame\"\"\"\n",
    "    xp = x\n",
    "    yp = y * m.cos(ecliptic_plane_angle_x) + z * m.sin(ecliptic_plane_angle_x)\n",
    "    zp = -y * m.sin(ecliptic_plane_angle_x) + z * m.cos(ecliptic_plane_angle_x)\n",
    "    rpp = m.sqrt(yp**2 + xp**2)\n",
    "    if yp >= 0:\n",
    "        thetapp = m.acos(xp / rpp)\n",
    "    else :\n",
    "        thetapp = - m.acos(xp / rpp)\n",
    "    zpp = zp\n",
    "    \n",
    "    r0 = R0 / R_center\n",
    "    rho = rpp / R_center\n",
    "    xi = zpp / R_center\n",
    "    M = (4  * rho) / ((rho + 1)**2 + xi**2)\n",
    "    \n",
    "    K = specials.ellipk(M)\n",
    "    E = specials.ellipe(M)\n",
    "    for i in range(len(List_m)):\n",
    "        index = i\n",
    "        if List_m[i] > M:\n",
    "            break\n",
    "    Kp = List_Kp[index]\n",
    "    Ep = List_Ep[index]\n",
    "    dm_drho = 4 / ((rho + 1)**2 + xi**2) - 8 * rho * (rho + 1) / ((rho + 1)**2 + xi**2)**2\n",
    "    dm_dz = - 8 * rho * xi / ((rho + 1)**2 + xi**2)**2\n",
    "    \n",
    "    Krpp = - mu / (m.pi * R_center**2) * (1 - r0**2 / 16) * (- 2 * (rho + 1) * (M / (4 * rho))**(3/2) * K + m.sqrt(M / rho) * dm_drho * Kp)\n",
    "    Krpp -= mu / (m.pi * R_center**2) * (r0**2/ 16) * ((- 6 * (rho + 1) * (rho**2 + xi**2 - 1) / ((rho + 1)**2 + xi**2)**(5/2) + 4 * rho / ((rho + 1)**2 + xi**2)**(3/2)) * E + m.sqrt(M / rho) * (rho**2 + xi**2 - 1) / ((rho + 1)**2 + xi**2) * dm_drho * Ep)\n",
    "    Kzpp = - mu / (m.pi * R_center**2) * (1 - r0**2 / 16) * (- 2 * xi / ((rho + 1)**2 + xi**2)**(3/2) * K + m.sqrt(M / rho) * dm_dz * Kp)\n",
    "    Kzpp -= mu / (m.pi * R_center**2) * (r0**2/ 16) * ((- 6 * xi * (rho**2 + xi**2 - 1) / ((rho + 1)**2 + xi**2)**(5/2) + 4 * xi / ((rho + 1)**2 + xi**2)**(3/2)) * E + m.sqrt(M / rho) * (rho**2 + xi**2 - 1) / ((rho + 1)**2 + xi**2) * dm_dz * Ep)\n",
    "    Ktethapp = 0\n",
    "    \n",
    "    Kx = m.cos(thetapp) * Krpp\n",
    "    Ky = m.sin(thetapp) * m.cos(ecliptic_plane_angle_x) * Krpp - m.sin(ecliptic_plane_angle_x) * Kzpp\n",
    "    Kz = m.sin(thetapp) * m.sin(ecliptic_plane_angle_x) * Krpp + m.cos(ecliptic_plane_angle_x) * Kzpp\n",
    "    \n",
    "    return(Kx, Ky, Kz)"
   ]
  },
  {
   "cell_type": "markdown",
   "metadata": {},
   "source": [
    "Ca compile, mais il reste un petit résidu de force que l'on ne comprend pas trop. S'il est constant, sa valeur en 0 est négligeable."
   ]
  }
 ],
 "metadata": {
  "kernelspec": {
   "display_name": "Python 3",
   "language": "python",
   "name": "python3"
  },
  "language_info": {
   "codemirror_mode": {
    "name": "ipython",
    "version": 3
   },
   "file_extension": ".py",
   "mimetype": "text/x-python",
   "name": "python",
   "nbconvert_exporter": "python",
   "pygments_lexer": "ipython3",
   "version": "3.7.0"
  }
 },
 "nbformat": 4,
 "nbformat_minor": 2
}
