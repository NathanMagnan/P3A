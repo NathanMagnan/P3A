{
 "cells": [
  {
   "cell_type": "markdown",
   "metadata": {},
   "source": [
    "## Importations"
   ]
  },
  {
   "cell_type": "code",
   "execution_count": 2,
   "metadata": {},
   "outputs": [],
   "source": [
    "import numpy as np\n",
    "import math as m\n",
    "import scipy.constants as constants\n",
    "import scipy.specials as specials"
   ]
  },
  {
   "cell_type": "markdown",
   "metadata": {},
   "source": [
    "# Kuiper's belt gravitational field $\\vec{K}(\\vec{r})$ under Newton's potential"
   ]
  },
  {
   "cell_type": "code",
   "execution_count": null,
   "metadata": {},
   "outputs": [],
   "source": [
    "def Kuiper_Newton(x, y, z, \n",
    "                  mu = 1.97 * 3986004418 * 10**3, ecliptic_plane_angle_x = (23.4 + 1.86) * 2 * m.pi / 360\n",
    "                  R_center = 45 * constants.au, R0 = 3 * constants.au):\n",
    "    \"\"\" The position of the mass is expressed in cartesian coordinates in the solar system's reference frame\"\"\"\n",
    "    xp = x\n",
    "    yp = y * m.cos(ecliptic_plane_angle_x) + z * m.sin(ecliptic_plane_angle_x)\n",
    "    zp = -y * m.sin(ecliptic_plane_angle_x) + z * m.cos(ecliptic_plane_angle_x)\n",
    "    rpp = m.sqrt(yp**2 + xp**2)\n",
    "    if yp >= 0:\n",
    "        thetapp = m.acos(xp / rpp)\n",
    "    else :\n",
    "        thetapp = - m.acos(xp / rpp) + m.pi\n",
    "    zpp = zp\n",
    "    \n",
    "    r0 = R0 / R_center\n",
    "    rho = rpp / R\n",
    "    xi = zpp / R\n",
    "    m = (4  * rho) / ((rho + 1)**2 + xi**2)\n",
    "    \n",
    "    K = specials.ellipk(m)\n",
    "    E = specials.ellipe(m)\n",
    "    K_p = \n",
    "    E_p =\n",
    "    dm_drho = 4 / ((rho + 1)**2 + xi**2) - 8 * rho * (rho + 1) / ((rho + 1)**2 + xi**2)**2\n",
    "    dm_dz = - 8 * rho * xi / ((rho + 1)**2 + xi**2)**2\n",
    "    \n",
    "    Krpp = mu / (m.pi * R_center**2) * (1 - r0**2 / 16) * (2 * (rho + 1) * (m / (4 * rho))**(3/2) * K + m.sqrt(m / rho) * dm_drho * Kp)\n",
    "    Krpp += mu / (m.pi * R_center**2) * (r0**2/ 16) * ((- 6 * (rho + 1) * (rho**2 + xi**2 - 1) / ((rho + 1)**2 + xi**2)**(5/2) + 4 * rho / ((rho + 1)**2 + xi**2)**(3/2)) * E + m.sqrt(m / rho) * (rho**2 + xi**2 - 1) / ((rho + 1)**2 + xi**2) * dm_drho * E_p)\n",
    "    Kzpp = mu / (m.pi * R_center**2) * (1 - r0**2 / 16) * (2 * xi / ((rho + 1)**2 + xi**2)**(3/2) * K + m.sqrt(m / rho) * dm_dz * Kp)\n",
    "    Kzpp += mu / (m.pi * R_center**2) * (r0**2/ 16) * ((- 6 * xi * (rho**2 + xi**2 - 1) / ((rho + 1)**2 + xi**2)**(5/2) + 4 * xi / ((rho + 1)**2 + xi**2)**(3/2)) * E + m.sqrt(m / rho) * (rho**2 + xi**2 - 1) / ((rho + 1)**2 + xi**2) * dm_dz * E_p)\n",
    "    Ktethapp = 0\n",
    "    \n",
    "    Kx = m.cos(thetapp) * Krpp\n",
    "    Ky = m.sin(thetapp) * m.cos(ecliptic_plane_angle_x) * Krpp - m.sin(ecliptic_plane_angle_x) * Kzpp\n",
    "    Kz = m.sin(tethapp) * m.sin(ecliptic_plane_angle_x) * Krpp + m.cos(ecliptic_plane_angle_x) * Kzpp\n",
    "    \n",
    "    return(Kx, Ky, Kz)"
   ]
  }
 ],
 "metadata": {
  "kernelspec": {
   "display_name": "Python 3",
   "language": "python",
   "name": "python3"
  },
  "language_info": {
   "codemirror_mode": {
    "name": "ipython",
    "version": 3
   },
   "file_extension": ".py",
   "mimetype": "text/x-python",
   "name": "python",
   "nbconvert_exporter": "python",
   "pygments_lexer": "ipython3",
   "version": "3.7.0"
  }
 },
 "nbformat": 4,
 "nbformat_minor": 2
}
