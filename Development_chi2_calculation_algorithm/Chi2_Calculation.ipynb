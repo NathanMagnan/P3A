{
 "cells": [
  {
   "cell_type": "markdown",
   "metadata": {},
   "source": [
    "### Importations"
   ]
  },
  {
   "cell_type": "code",
   "execution_count": null,
   "metadata": {},
   "outputs": [],
   "source": [
    "import orbit_modelling_library as orbit\n",
    "import math as m\n",
    "import numpy as np\n",
    "import matplotlib.pyplot as plt\n",
    "from matplotlib import rc\n",
    "from mpl_toolkits.mplot3d import Axes3D\n",
    "rc('text', usetex = True)"
   ]
  },
  {
   "cell_type": "markdown",
   "metadata": {},
   "source": [
    "# Fonction $\\chi^2$"
   ]
  },
  {
   "cell_type": "code",
   "execution_count": null,
   "metadata": {},
   "outputs": [],
   "source": [
    "def chi_2(observation, model, delta_radar, delta_accelerometer, delta_initial_position, delta_initial_speed):\n",
    "    if len(observation.t) != len(model.t):\n",
    "        print(\"Error : the observation and the model are not sampled at the same times\")\n",
    "        return\n",
    "    for i in range(len(observation.t)):\n",
    "        if observation.t[i] != model.t[i]:\n",
    "            print(\"Error : the observation and the model are not sampled at the same times\")\n",
    "            return\n",
    "    \n",
    "    chi_2 = 0\n",
    "    delta_position = delta_initial_position\n",
    "    delta_speed = delta_initial_speed\n",
    "    T = observation.t\n",
    "    t0 = T[0]\n",
    "    time_step = T[1] - T[0]\n",
    "    \n",
    "    for i in range(len(T)):\n",
    "        X_obs, X_mod = observation.X[i], model.X[i]\n",
    "        Y_obs, Y_mod = observation.Y[i], model.Y[i]\n",
    "        Z_obs, Z_mod = observation.Z[i], model.Z[i]\n",
    "        \n",
    "        delta_position += time_step * delta_speed\n",
    "        delta_speed += time_step * delta_accelerometer\n",
    "        \n",
    "        chi_2 += ((X_obs - X_mod)**2 + (Y_obs - Y_mod)**2 + (Z_obs - Z_mod)**2) / (delta_radar**2 + delta_position**2)\n",
    "    return chi_2 "
   ]
  },
  {
   "cell_type": "markdown",
   "metadata": {},
   "source": [
    "### Test de la fonction $\\chi^{2}$"
   ]
  },
  {
   "cell_type": "code",
   "execution_count": null,
   "metadata": {},
   "outputs": [],
   "source": [
    "observation = orbit.Orbit_model(\"2050-01-01T00:00:00\", \"2050-02-01T00:00:00\", 10**6, \"Yukawa_1_month\", type = \"Yukawa\")\n",
    "model = orbit.Orbit_model(\"2050-01-01T00:00:00\", \"2050-02-01T00:00:00\", 10**6, \"all_forces_1_month\", type = \"Newton\")\n",
    "observation.load()\n",
    "model.load()\n",
    "\n",
    "delta_radar = 1\n",
    "delta_accelerometer = 10**(-12)\n",
    "delta_initial_position = delta_radar\n",
    "delta_initial_speed = 0\n",
    "\n",
    "print(chi_2(observation, model, delta_radar, delta_accelerometer, delta_initial_position, delta_initial_speed))"
   ]
  },
  {
   "cell_type": "code",
   "execution_count": null,
   "metadata": {},
   "outputs": [],
   "source": [
    "m.sqrt(delta_radar + 0.5*delta_accelerometer*(86400*30)**2)"
   ]
  },
  {
   "cell_type": "markdown",
   "metadata": {},
   "source": [
    "Pour rappel, on avait obtenu une distance finale entre ces 2 trajectoires de 15m, soit environ 7 $\\sigma$ d'après le calcul de la cellule précédente. Comme on trouve une certitude à 1000 $\\sigma$, on pense qu'il y a une erreur quelque part..."
   ]
  },
  {
   "cell_type": "markdown",
   "metadata": {},
   "source": [
    "# Data generation"
   ]
  },
  {
   "cell_type": "code",
   "execution_count": null,
   "metadata": {},
   "outputs": [],
   "source": [
    "def observations_data_generation(time_isot_start, time_isot_end, n_points_t, \n",
    "                                      lambda_start, lambda_end, n_points_lambda, \n",
    "                                      alpha_start, alpha_end, n_points_alpha, \n",
    "                                      target_files, \n",
    "                                      Bodies = [i + 1 for i in range(10)], radiation = False, solar_wind = False, \n",
    "                                      reflectivity_sat = 0.5, radius_sat = 0.63, mass_sat = 100, plasma_speed = 450000):\n",
    "    Lambda = [lambda_start + (lambda_end - lambda_start) * i / (n_points_lambda - 1) for i in range(n_points_lambda)]\n",
    "    Alpha = [alpha_start + (alpha_end - alpha_start) * i / (n_points_alpha - 1) for i in range(n_points_alpha)]\n",
    "    \n",
    "    N = n_points_lambda*n_points_alpha\n",
    "    print(N)\n",
    "    \n",
    "    i = 0\n",
    "    print(100 * i / (N - 1))\n",
    "    for lambdaa in Lambda:\n",
    "        for alpha in Alpha:\n",
    "            i += 1\n",
    "            target_file = target_files + \"_lambda_=_\" + str(lambdaa) + \"_alpha_=_\" + str(alpha)\n",
    "            observation = orbit.Orbit_model(time_isot_start, time_isot_end, n_points_t, target_file, Bodies, \"Yukawa\", alpha, lambdaa, radiation, solar_wind, reflectivity_sat, radius_sat, mass_sat, plasma_speed)\n",
    "            observation.compute()\n",
    "            print(100 * i / N) # gives the pourcentage of the computation that has already been done"
   ]
  },
  {
   "cell_type": "code",
   "execution_count": null,
   "metadata": {},
   "outputs": [],
   "source": [
    "def model_data_generation(time_isot_start, time_isot_end, n_points_t, target_files, \n",
    "                          Bodies = [i + 1 for i in range(10)], type = \"Yukawa\", alpha = 10**(-4), lambdaa = 10**12, \n",
    "                          radiation = False, solar_wind = False, \n",
    "                          reflectivity_sat = 0.5, radius_sat = 0.63, mass_sat = 100, plasma_speed = 450000):\n",
    "    \n",
    "    target_file = target_files + \"_model\"\n",
    "    model = orbit.Orbit_model(time_isot_start, time_isot_end, n_points_t, target_file, Bodies, type, alpha, lambdaa, radiation, solar_wind, reflectivity_sat, radius_sat, mass_sat, plasma_speed)\n",
    "    model.compute()"
   ]
  },
  {
   "cell_type": "markdown",
   "metadata": {},
   "source": [
    "### Test du bloc data generation"
   ]
  },
  {
   "cell_type": "code",
   "execution_count": null,
   "metadata": {},
   "outputs": [],
   "source": [
    "model_data_generation(\"2050-01-01T00:00:00\", \"2050-02-01T00:00:00\", 10**4, \"Test_data_generation\")\n",
    "print(\"Ok_model\")\n",
    "observations_data_generation(\"2050-01-01T00:00:00\", \"2050-02-01T00:00:00\", 10**4, \n",
    "                            10**(-12), 10**(-11), 5, \n",
    "                            10**(-5), 10**(-4), 5, \n",
    "                            \"Test_data_generation\")\n",
    "print(\"Ok_observation\")"
   ]
  },
  {
   "cell_type": "markdown",
   "metadata": {},
   "source": [
    "Le code compile, mais comme on a pas demandé assez de points en temps il y a des valeurs absurdes, ce qui donne des résultats inexploitables pour tester la correction"
   ]
  },
  {
   "cell_type": "markdown",
   "metadata": {},
   "source": [
    "# Data usage"
   ]
  },
  {
   "cell_type": "code",
   "execution_count": null,
   "metadata": {},
   "outputs": [],
   "source": [
    "def grid(time_isot_start, time_isot_end, n_points_t, target_files,\n",
    "         lambda_start, lambda_end, n_points_lambda, \n",
    "         alpha_start, alpha_end, n_points_alpha, \n",
    "         delta_radar, delta_accelerometer, delta_initial_position, delta_initial_speed, \n",
    "         Bodies = [i + 1 for i in range(10)], type_model = \"Yukawa\", alpha_model = 10**(-4), lambdaa_model = 10**12,\n",
    "         radiation = False, solar_wind = False, \n",
    "         reflectivity_sat = 0.5, radius_sat = 0.63, mass_sat = 100, plasma_speed = 450000):\n",
    "    Lambda = [lambda_start + (lambda_end - lambda_start) * i / (n_points_lambda - 1) for i in range(n_points_lambda)]\n",
    "    Alpha = [alpha_start + (alpha_end - alpha_start) * i / (n_points_alpha - 1) for i in range(n_points_alpha)]\n",
    "    \n",
    "    target_file = target_files + \"_model\"\n",
    "    model = orbit.Orbit_model(time_isot_start, time_isot_end, n_points_t, target_file, Bodies, type_model, alpha_model, lambdaa_model, radiation, solar_wind, reflectivity_sat, radius_sat, mass_sat, plasma_speed)\n",
    "    model.load()\n",
    "    \n",
    "    Z = [[0 for j in range(n_points_alpha)] for i in range(n_points_lambda)]\n",
    "    for i in range(len(Lambda)):\n",
    "        lambdaa = Lambda[i]\n",
    "        for j in range(len(Alpha)):\n",
    "            alpha = Alpha[j]\n",
    "            target_file = target_files + \"_lambda_=_\" + str(lambdaa) + \"_alpha_=_\" + str(alpha)\n",
    "            observation = orbit.Orbit_model(time_isot_start, time_isot_end, n_points_t, target_file, Bodies, \"Yukawa\", alpha, lambdaa, radiation, solar_wind, reflectivity_sat, radius_sat, mass_sat, plasma_speed)\n",
    "            observation.load()\n",
    "            Z[i][j] = chi_2(observation, model, delta_radar, delta_accelerometer, delta_initial_position, delta_initial_speed)\n",
    "            \n",
    "    return Z"
   ]
  },
  {
   "cell_type": "code",
   "execution_count": null,
   "metadata": {},
   "outputs": [],
   "source": [
    "def drawing(lambda_start, lambda_end, n_points_lambda, \n",
    "            alpha_start, alpha_end, n_points_alpha, \n",
    "            grid_alpha_lambda):\n",
    "    X = [lambda_start + (lambda_end - lambda_start) * i / (n_points_lambda - 1) for i in range(n_points_lambda)]\n",
    "    Y = [alpha_start + (alpha_end - alpha_start) * i / (n_points_alpha - 1) for i in range(n_points_alpha)]\n",
    "    Z = np.asarray(grid_alpha_lambda)\n",
    "\n",
    "    fig = plt.figure(1)\n",
    "    X, Y = np.meshgrid(X, Y)\n",
    "    ax = plt.axes(projection = '3d')\n",
    "    ax.plot_surface(X, Y, Z, rstride = 1, cstride = 1, cmap = 'viridis', edgecolor = 'none')"
   ]
  },
  {
   "cell_type": "markdown",
   "metadata": {},
   "source": [
    "### Test du bloc data_usage"
   ]
  },
  {
   "cell_type": "code",
   "execution_count": null,
   "metadata": {},
   "outputs": [],
   "source": [
    "delta_radar = 1\n",
    "delta_accelerometer = 10**(-12)\n",
    "delta_initial_position = delta_radar\n",
    "delta_initial_speed = 0\n",
    "\n",
    "Z = grid(\"2050-01-01T00:00:00\", \"2050-02-01T00:00:00\", 10**3, \"Test_data_generation\", \n",
    "         10**(-12), 10**(-11), 5, \n",
    "         10**(-5), 10**(-4), 5, \n",
    "         delta_radar, delta_accelerometer, delta_initial_position, delta_initial_speed)\n",
    "\n",
    "drawing(10**(-12), 10**(-11), 5, \n",
    "         10**(-5), 10**(-4), 5, \n",
    "        Z)"
   ]
  },
  {
   "cell_type": "markdown",
   "metadata": {},
   "source": [
    "Le code compile et trace la courbe 3D, ce qui est bon signe"
   ]
  }
 ],
 "metadata": {
  "kernelspec": {
   "display_name": "Python 3",
   "language": "python",
   "name": "python3"
  },
  "language_info": {
   "codemirror_mode": {
    "name": "ipython",
    "version": 3
   },
   "file_extension": ".py",
   "mimetype": "text/x-python",
   "name": "python",
   "nbconvert_exporter": "python",
   "pygments_lexer": "ipython3",
   "version": "3.7.0"
  }
 },
 "nbformat": 4,
 "nbformat_minor": 2
}
