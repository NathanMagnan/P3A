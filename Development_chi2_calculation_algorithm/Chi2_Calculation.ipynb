{
 "cells": [
  {
   "cell_type": "markdown",
   "metadata": {},
   "source": [
    "### Importations"
   ]
  },
  {
   "cell_type": "code",
   "execution_count": 21,
   "metadata": {},
   "outputs": [],
   "source": [
    "import orbit_modelling_library as orbit\n",
    "import math as m"
   ]
  },
  {
   "cell_type": "markdown",
   "metadata": {},
   "source": [
    "# Fonction $\\chi^2$"
   ]
  },
  {
   "cell_type": "code",
   "execution_count": 22,
   "metadata": {},
   "outputs": [],
   "source": [
    "def chi_2(observation, model, delta_radar, delta_accelerometer, delta_initial_position, delta_initial_speed):\n",
    "    if len(observation.t) != len(model.t):\n",
    "        print(\"Error : the observation and the model are not sampled at the same times\")\n",
    "        return\n",
    "    for i in range(len(observation.t)):\n",
    "        if observation.t[i] != model.t[i]:\n",
    "            print(\"Error : the observation and the model are not sampled at the same times\")\n",
    "            return\n",
    "    \n",
    "    chi_2 = 0\n",
    "    delta_position = delta_initial_position\n",
    "    delta_speed = delta_initial_speed\n",
    "    T = observation.t\n",
    "    t0 = T[0]\n",
    "    time_step = T[1] - T[0]\n",
    "    \n",
    "    for i in range(len(T)):\n",
    "        X_obs, X_mod = observation.X[i], model.X[i]\n",
    "        Y_obs, Y_mod = observation.Y[i], model.Y[i]\n",
    "        Z_obs, Z_mod = observation.Z[i], model.Z[i]\n",
    "        \n",
    "        delta_position += time_step * delta_speed\n",
    "        delta_speed += time_step * delta_accelerometer\n",
    "        \n",
    "        chi_2 += ((X_obs - X_mod)**2 + (Y_obs - Y_mod)**2 + (Z_obs - Z_mod)**2) / (delta_radar**2 + delta_position**2)\n",
    "    return chi_2 "
   ]
  },
  {
   "cell_type": "markdown",
   "metadata": {},
   "source": [
    "# Test de la fonction $\\chi^{2}$"
   ]
  },
  {
   "cell_type": "code",
   "execution_count": 25,
   "metadata": {},
   "outputs": [
    {
     "name": "stdout",
     "output_type": "stream",
     "text": [
      "4131493.0072156894\n"
     ]
    }
   ],
   "source": [
    "observation = orbit.Orbit_model(\"2050-01-01T00:00:00\", \"2050-02-01T00:00:00\", 10**6, \"Yukawa_1_month\", type = \"Yukawa\")\n",
    "model = orbit.Orbit_model(\"2050-01-01T00:00:00\", \"2050-02-01T00:00:00\", 10**6, \"all_forces_1_month\", type = \"Newton\")\n",
    "observation.load()\n",
    "model.load()\n",
    "\n",
    "delta_radar = 1\n",
    "delta_accelerometer = 10**(-12)\n",
    "delta_initial_position = delta_radar\n",
    "delta_initial_speed = 0\n",
    "\n",
    "print(chi_2(observation, model, delta_radar, delta_accelerometer, delta_initial_position, delta_initial_speed))"
   ]
  },
  {
   "cell_type": "code",
   "execution_count": 26,
   "metadata": {},
   "outputs": [
    {
     "data": {
      "text/plain": [
       "2.087877391036169"
      ]
     },
     "execution_count": 26,
     "metadata": {},
     "output_type": "execute_result"
    }
   ],
   "source": [
    "m.sqrt(delta_radar + 0.5*delta_accelerometer*(86400*30)**2)"
   ]
  },
  {
   "cell_type": "markdown",
   "metadata": {},
   "source": [
    "Pour rappel, on avait obtenu une distance finale entre ces 2 trajectoires de 15m, soit environ 7 $\\sigma$ d'après le calcul de la cellule précédente. Comme on trouve une certitude à 2000 $\\sigma$, on pense qu'il y a une erreur quelque part..."
   ]
  }
 ],
 "metadata": {
  "kernelspec": {
   "display_name": "Python 3",
   "language": "python",
   "name": "python3"
  },
  "language_info": {
   "codemirror_mode": {
    "name": "ipython",
    "version": 3
   },
   "file_extension": ".py",
   "mimetype": "text/x-python",
   "name": "python",
   "nbconvert_exporter": "python",
   "pygments_lexer": "ipython3",
   "version": "3.7.0"
  }
 },
 "nbformat": 4,
 "nbformat_minor": 2
}
