{
 "cells": [
  {
   "cell_type": "markdown",
   "metadata": {},
   "source": [
    "Expression complete pour la dérivée seconde par rapport à $\\eta$ valuée en $(0, 0)$ :\n",
    "\n",
    "$2 \\left(\\frac{8 \\rho \\left(\\frac{\\rho + 1}{\\xi^{2} + \\left(\\rho + 1\\right)^{2}}- 1\\right) \\left(\\frac{2 \\left(\\rho + 1\\right)}{\\xi^{2} + \\left(\\rho + 1\\right)^{2}} - 1\\right) \\left. \\frac{d}{d \\xi_{1}} K{\\left(\\xi_{1} \\right)} \\right|_{\\substack{ \\xi_{1}=\\frac{4 \\rho}{\\xi^{2} + \\left(\\rho + 1\\right)^{2}} }}}{\\xi^{2} + \\left(\\rho + 1\\right)^{2}} + \\frac{8 \\rho \\left(2 \\rho \\left(\\frac{2 \\left(\\rho + 1\\right)}{\\xi^{2} + \\left(\\rho + 1\\right)^{2}} - 1\\right)^{2} \\left. \\frac{d^{2}}{d \\xi_{1}^{2}} K{\\left(\\xi_{1} \\right)} \\right|_{\\substack{ \\xi_{1}=\\frac{4 \\rho}{\\xi^{2} + \\left(\\rho + 1\\right)^{2}} }} - \\left(2 \\rho - \\frac{4 \\left(\\rho + 1\\right)^{2}}{\\xi^{2} + \\left(\\rho + 1\\right)^{2}} + 3\\right) \\left. \\frac{d}{d \\xi_{1}} K{\\left(\\xi_{1} \\right)} \\right|_{\\substack{ \\xi_{1}=\\frac{4 \\rho}{\\xi^{2} + \\left(\\rho + 1\\right)^{2}} }}\\right)}{\\left(\\xi^{2} + \\left(\\rho + 1\\right)^{2}\\right)^{2}} - \\left(- \\frac{4 \\left(\\rho + 1\\right)^{2}}{\\left(\\xi^{2} + \\left(\\rho + 1\\right)^{2}\\right)^{2}} + \\frac{2 \\left(\\rho + 1\\right) \\left(\\frac{\\rho + 1}{\\xi^{2} + \\left(\\rho + 1\\right)^{2}} - 1\\right)}{\\xi^{2} + \\left(\\rho + 1\\right)^{2}} + \\frac{2 \\left(\\rho + 1\\right)}{\\xi^{2} + \\left(\\rho + 1\\right)^{2}} - \\left(\\frac{\\rho + 1}{\\xi^{2} + \\left(\\rho + 1\\right)^{2}} - 1\\right)^{2} + 1 + \\frac{1}{\\xi^{2} + \\left(\\rho + 1\\right)^{2}}\\right) K{\\left(\\frac{4 \\rho}{\\xi^{2} + \\left(\\rho + 1\\right)^{2}} \\right)}\\right) \\sqrt{\\frac{1}{\\xi^{2} + \\left(\\rho + 1\\right)^{2}}}$"
   ]
  },
  {
   "cell_type": "markdown",
   "metadata": {},
   "source": [
    "Expression complète pour la dérivée seconde par rapport à $\\xi'$ valuée en $(0, 0)$ :\n",
    "\n",
    "$\\frac{2 \\left(\\frac{16 \\rho \\xi^{2} \\left. \\frac{d}{d \\xi_{1}} K{\\left(\\xi_{1} \\right)} \\right|_{\\substack{ \\xi_{1}=\\frac{4 \\rho}{\\xi^{2} + \\left(\\rho + 1\\right)^{2}} }}}{\\left(\\xi^{2} + \\left(\\rho + 1\\right)^{2}\\right)^{2}} + \\frac{8 \\rho \\left(\\frac{8 \\rho \\xi^{2} \\left. \\frac{d^{2}}{d \\xi_{1}^{2}} K{\\left(\\xi_{1} \\right)} \\right|_{\\substack{ \\xi_{1}=\\frac{4 \\rho}{\\xi^{2} + \\left(\\rho + 1\\right)^{2}} }}}{\\left(\\xi^{2} + \\left(\\rho + 1\\right)^{2}\\right)^{2}} + \\frac{4 \\xi^{2} \\left. \\frac{d}{d \\xi_{1}} K{\\left(\\xi_{1} \\right)} \\right|_{\\substack{ \\xi_{1}=\\frac{4 \\rho}{\\xi^{2} + \\left(\\rho + 1\\right)^{2}} }}}{\\xi^{2} + \\left(\\rho + 1\\right)^{2}} - \\left. \\frac{d}{d \\xi_{1}} K{\\left(\\xi_{1} \\right)} \\right|_{\\substack{ \\xi_{1}=\\frac{4 \\rho}{\\xi^{2} + \\left(\\rho + 1\\right)^{2}} }}\\right)}{\\xi^{2} + \\left(\\rho + 1\\right)^{2}} + \\left(\\frac{3 \\xi^{2}}{\\xi^{2} + \\left(\\rho + 1\\right)^{2}} - 1\\right) K{\\left(\\frac{4 \\rho}{\\xi^{2} + \\left(\\rho + 1\\right)^{2}} \\right)}\\right) \\sqrt{\\frac{1}{\\xi^{2} + \\left(\\rho + 1\\right)^{2}}}}{\\xi^{2} + \\left(\\rho + 1\\right)^{2}}$"
   ]
  },
  {
   "cell_type": "code",
   "execution_count": null,
   "metadata": {},
   "outputs": [],
   "source": []
  }
 ],
 "metadata": {
  "kernelspec": {
   "display_name": "Python 3",
   "language": "python",
   "name": "python3"
  },
  "language_info": {
   "codemirror_mode": {
    "name": "ipython",
    "version": 3
   },
   "file_extension": ".py",
   "mimetype": "text/x-python",
   "name": "python",
   "nbconvert_exporter": "python",
   "pygments_lexer": "ipython3",
   "version": "3.7.0"
  }
 },
 "nbformat": 4,
 "nbformat_minor": 2
}
